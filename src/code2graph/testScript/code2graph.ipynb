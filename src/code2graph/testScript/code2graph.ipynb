{
 "cells": [
  {
   "cell_type": "code",
   "execution_count": null,
   "metadata": {},
   "outputs": [],
   "source": [
    "'''Import the graphHandler class'''\n",
    "import sys\n",
    "sys.path.append('../core') #Add the path for the core folder, to be able to import graphHandler class\n",
    "from graphHandler import * #Import graphHandler class and its methods.\n"
   ]
  },
  {
   "cell_type": "code",
   "execution_count": null,
   "metadata": {},
   "outputs": [],
   "source": [
    "'''Create an instance of the handler class'''\n",
    "logdir = '../tmp/log' #The directory path that is containing event file\n",
    "gHandle = graphHandler(logdir=os.path.expanduser(logdir)) #Create the handler object with directory path\n",
    "\n",
    "'''Extract the graphDef object from the event file'''\n",
    "#It keeps the graphDef object as a property\n",
    "gHandle.readGraphDef() #extract graphDef using EventAccumulator\n",
    "\n",
    "'''Convert the graphDef to JSON'''\n",
    "#It keeps the JSON as a property as well\n",
    "gHandle.convertGraphDef2Json() #Convert it using MessageToJson"
   ]
  },
  {
   "cell_type": "code",
   "execution_count": null,
   "metadata": {},
   "outputs": [],
   "source": [
    "'''Convert the extracted JSON string to the RDF format'''\n",
    "gHandle.convertJson2RDF()\n",
    "#This will convert the JSON to RDF structure and save it as a property: _RDF\n",
    "\n",
    "'''Display the simplified RDF structre by printing it here'''\n",
    "gHandle.displayRDF() #It displays the RDF by both printing the triples here, and visualizing the graph.\n",
    "#Opens a new browser page."
   ]
  }
 ],
 "metadata": {
  "kernelspec": {
   "display_name": "Python 3",
   "language": "python",
   "name": "python3"
  },
  "language_info": {
   "codemirror_mode": {
    "name": "ipython",
    "version": 3
   },
   "file_extension": ".py",
   "mimetype": "text/x-python",
   "name": "python",
   "nbconvert_exporter": "python",
   "pygments_lexer": "ipython3",
   "version": "3.6.7"
  }
 },
 "nbformat": 4,
 "nbformat_minor": 2
}
