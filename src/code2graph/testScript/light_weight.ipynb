{
 "cells": [
  {
   "cell_type": "code",
   "execution_count": null,
   "metadata": {},
   "outputs": [],
   "source": [
    "'''First, we import the graph creator module and the necessary library for path analysis'''\n",
    "# Our program uses some libraries that need to be installed before using it\n",
    "# The libraries are listed in the requirements.txt file.\n",
    "# Before running this script go to the main folder of code2graph module.\n",
    "# When the working directory is code2graph main folder, run the following line in the terminal:\n",
    "\n",
    "# pip install -r requirements.txt\n",
    "\n",
    "# After that Python's pip module will install all required libraries.\n",
    "\n",
    "# Having all the libraries ready, now we can import our main module for usage\n",
    "\n",
    "import sys\n",
    "sys.path.append('../core')\n",
    "from graphlightweight import *\n",
    "from pathlib import Path\n",
    "\n",
    "print(\"Necessary modules have been successfully imported!\")"
   ]
  },
  {
   "cell_type": "code",
   "execution_count": null,
   "metadata": {},
   "outputs": [],
   "source": [
    "'''Get the path for our fashion_mnist example'''\n",
    "\n",
    "# Our module requires a repository path to explore.\n",
    "# It will find every code file and include it in the analysis.\n",
    "\n",
    "# For demonstration purpose we have prepared 2 different examples:\n",
    "# One fashion_mnist classifier example, and a real paper example, VGG16.\n",
    "\n",
    "# In order to use it on other repositories change this path.\n",
    "path = Path(\"..\")/\"core\"/\"test\"/\"VGG16\"\n",
    "# path = Path(\"..\")/\"core\"/\"test\"/\"fashion_mnist\"\n",
    "path = path.resolve()\n",
    "\n",
    "print(\"Resolved Path is:\", path)\n"
   ]
  },
  {
   "cell_type": "code",
   "execution_count": null,
   "metadata": {},
   "outputs": [],
   "source": [
    "'''Create a TensorFlow Token Explorer object with the resolved path'''\n",
    "\n",
    "my_explorer = TFTokenExplorer(path)\n",
    "my_explorer.explore_code_repository() #Explore the codes inside the repository with the given path.\n",
    "\n",
    "#Executing this portion will open a new tab in the browser with the graph it created."
   ]
  }
 ],
 "metadata": {
  "kernelspec": {
   "display_name": "Python 3",
   "language": "python",
   "name": "python3"
  },
  "language_info": {
   "codemirror_mode": {
    "name": "ipython",
    "version": 3
   },
   "file_extension": ".py",
   "mimetype": "text/x-python",
   "name": "python",
   "nbconvert_exporter": "python",
   "pygments_lexer": "ipython3",
   "version": "3.6.7"
  }
 },
 "nbformat": 4,
 "nbformat_minor": 2
}
