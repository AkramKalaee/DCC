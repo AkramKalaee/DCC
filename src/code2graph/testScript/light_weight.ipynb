{
 "cells": [
  {
   "cell_type": "code",
   "execution_count": 1,
   "metadata": {},
   "outputs": [
    {
     "name": "stdout",
     "output_type": "stream",
     "text": [
      "Necessary modules have been successfully imported!\n"
     ]
    }
   ],
   "source": [
    "'''First, we import the lightweight script and shlex library for analyze shell commands.'''\n",
    "# Our program uses some libraries that need to be installed before using it\n",
    "# The libraries are listed in the requirements.txt file.\n",
    "# Before running this script go to the main folder of code2graph module.\n",
    "# When the working directory is code2graph main folder, run the following line in the terminal:\n",
    "\n",
    "# pip install -r requirements.txt\n",
    "\n",
    "# After that Python's pip module will install all required libraries.\n",
    "\n",
    "# Having all the libraries ready, now we can import our main module for usage\n",
    "\n",
    "import sys\n",
    "sys.path.append('../script')\n",
    "from script_lightweight import pipeline_the_lightweight_approach\n",
    "import shlex\n",
    "\n",
    "print(\"Necessary modules have been successfully imported!\")"
   ]
  },
  {
   "cell_type": "code",
   "execution_count": 6,
   "metadata": {},
   "outputs": [],
   "source": [
    "'''Type out the command to run the script.'''\n",
    "\n",
    "# Our module requires a repository path to explore.\n",
    "# It will find every code file and include it in the analysis.\n",
    "\n",
    "# There are six different output types. Output options can be specified by using the flag -opt.\n",
    "# The output options are as follows:\n",
    "# 1 = Print call graph, 2 = Print call trees, 3 = RDF graph in html format*\n",
    "# 4 = TensorFlow sequences, 5 = Extract triples*, 6 = Export RDF Graph in turtle format*\n",
    "# * Generates output files\n",
    "\n",
    "# The following command runs the lightweight method on the fashion_mnist repository specified by -ip.\n",
    "# \"-opt 3\" flag specifies that RDF graph in html file format will be generated in the input path. \n",
    "# You can open the generated html file using the browser of your choice to view the RDF graph.\n",
    "command = \"python script_lightweight.py -ip ../test/fashion_mnist -opt 3\"\n",
    "\n",
    "# The following command runs the script on VGG16 repository. \n",
    "# Notice how you can have multiple output options at the same time.\n",
    "# This generates RDF graph in html format and RDF triples at the same time.\n",
    "# --arg flag is used to include \"has argument\" relationship in the graph.\n",
    "# --url flag is used to include \"has url\" relationship in the graph.\n",
    "# command = \"python script_lightweight.py -ip ../test/VGG16 -opt 3 5 --arg --url\"\n",
    "\n",
    "# The script can also be run recursively by using the -r flag. \n",
    "# This run the lightweight method on a collection of repositories. \n",
    "# You can run this command on the raw dataset scraped from paperswithcode.com website using our script.\n",
    "# You should also specify the destination path by using the flag -dp.\n",
    "# This script copies the generated files into destination directory.\n",
    "# command = \"python script_lightweight.py -ip [Path to dataset] -r -dp [Path to destinaton] -opt 5 6 --arg --url\"\n",
    "\n",
    "# When using option 5 (triples), you can use the flag --ct.\n",
    "# This only copies combined_triples files into destination.\n",
    "# command = \"python script_lightweight.py -ip [Path to dataset] -r -dp [Path to destinaton] --ct -opt 5\"\n",
    "\n",
    "# You can also run the commands above directly in your terminal.\n",
    "argv = shlex.split(command)"
   ]
  },
  {
   "cell_type": "code",
   "execution_count": 7,
   "metadata": {},
   "outputs": [
    {
     "name": "stdout",
     "output_type": "stream",
     "text": [
      "Listing '/home/aung/Documents/DCC/src/code2graph/test/fashion_mnist'...\n",
      "Compiling '/home/aung/Documents/DCC/src/code2graph/test/fashion_mnist/testGraph_extensive.py'...\n",
      "/home/aung/Documents/DCC/src/code2graph/test/fashion_mnist/testGraph_extensive.py\n",
      "/home/aung/Documents/DCC/src/code2graph/test/fashion_mnist/testGraph_extensive.py\n",
      "Dump Code Trees\n",
      "for call tree starting from .testGraph_extensive\n",
      "{'children': [{'children': [],\n",
      "               'name': 'clearLogFolder',\n",
      "               'pyan': <Node function:testGraph_extensive.clearLogFolder>,\n",
      "               'rdf_name': '.testGraph_extensive.clearLogFolder_0',\n",
      "               'type': function},\n",
      "              {'args': [],\n",
      "               'children': [],\n",
      "               'name': 'load_data',\n",
      "               'rdf_name': '.testGraph_extensive.load_data_1',\n",
      "               'type': 'tf_keyword',\n",
      "               'url': '/versions/r1.14/api_docs/python/tf/keras/datasets/fashion_mnist/load_data'},\n",
      "              {'args': [],\n",
      "               'children': [{'args': [],\n",
      "                             'children': [],\n",
      "                             'keywords': {'input_shape': '(28, 28)'},\n",
      "                             'name': 'Flatten',\n",
      "                             'rdf_name': '.testGraph_extensive.Sequential_2.Flatten_0',\n",
      "                             'type': 'tf_keyword',\n",
      "                             'url': '/versions/r1.14/api_docs/python/tf/keras/layers/Flatten'},\n",
      "                            {'args': [128],\n",
      "                             'children': [],\n",
      "                             'keywords': {'activation': 'tf.nn.relu'},\n",
      "                             'name': 'Dense',\n",
      "                             'rdf_name': '.testGraph_extensive.Sequential_2.Dense_1',\n",
      "                             'type': 'tf_keyword',\n",
      "                             'url': '/versions/r1.14/api_docs/python/tf/keras/layers/Dense'},\n",
      "                            {'args': [10],\n",
      "                             'children': [],\n",
      "                             'keywords': {'activation': 'tf.nn.softmax'},\n",
      "                             'name': 'Dense',\n",
      "                             'rdf_name': '.testGraph_extensive.Sequential_2.Dense_2',\n",
      "                             'type': 'tf_keyword',\n",
      "                             'url': '/versions/r1.14/api_docs/python/tf/keras/layers/Dense'}],\n",
      "               'name': 'Sequential',\n",
      "               'rdf_name': '.testGraph_extensive.Sequential_2',\n",
      "               'type': 'tf_keyword',\n",
      "               'url': '/versions/r1.14/api_docs/python/tf/keras/Sequential'},\n",
      "              {'args': [],\n",
      "               'children': [],\n",
      "               'name': 'AdamOptimizer',\n",
      "               'rdf_name': '.testGraph_extensive.AdamOptimizer_3',\n",
      "               'type': 'tf_keyword',\n",
      "               'url': '/versions/r1.14/api_docs/python/tf/train/AdamOptimizer'},\n",
      "              {'args': [],\n",
      "               'children': [],\n",
      "               'name': 'sparse_categorical_crossentropy',\n",
      "               'rdf_name': '.testGraph_extensive.sparse_categorical_crossentropy_4',\n",
      "               'type': 'tf_keyword',\n",
      "               'url': '/versions/r1.14/api_docs/python/tf/keras/backend/sparse_categorical_crossentropy'},\n",
      "              {'args': [],\n",
      "               'children': [],\n",
      "               'keywords': {},\n",
      "               'name': 'TensorBoard',\n",
      "               'rdf_name': '.testGraph_extensive.TensorBoard_5',\n",
      "               'type': 'tf_keyword',\n",
      "               'url': '/versions/r1.14/api_docs/python/tf/keras/callbacks/TensorBoard'}],\n",
      " 'name': '.testGraph_extensive',\n",
      " 'pyan': <Node module:testGraph_extensive>,\n",
      " 'rdf_name': '.testGraph_extensive',\n",
      " 'type': module}\n"
     ]
    }
   ],
   "source": [
    "'''Run the script with the command.'''\n",
    "\n",
    "pipeline_the_lightweight_approach(argv[2:])"
   ]
  },
  {
   "cell_type": "code",
   "execution_count": null,
   "metadata": {},
   "outputs": [],
   "source": []
  }
 ],
 "metadata": {
  "kernelspec": {
   "display_name": "Python 3",
   "language": "python",
   "name": "python3"
  },
  "language_info": {
   "codemirror_mode": {
    "name": "ipython",
    "version": 3
   },
   "file_extension": ".py",
   "mimetype": "text/x-python",
   "name": "python",
   "nbconvert_exporter": "python",
   "pygments_lexer": "ipython3",
   "version": "3.7.3"
  }
 },
 "nbformat": 4,
 "nbformat_minor": 2
}
