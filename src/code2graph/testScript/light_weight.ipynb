{
 "cells": [
  {
   "cell_type": "code",
   "execution_count": null,
   "metadata": {},
   "outputs": [],
   "source": [
    "'''First, we import the lightweight script and shlex library for analyze shell commands.'''\n",
    "# Our program uses some libraries that need to be installed before using it\n",
    "# The libraries are listed in the requirements.txt file.\n",
    "# Before running this script go to the main folder of code2graph module.\n",
    "# When the working directory is code2graph main folder, run the following line in the terminal:\n",
    "\n",
    "# pip install -r requirements.txt\n",
    "\n",
    "# After that Python's pip module will install all required libraries.\n",
    "\n",
    "# Having all the libraries ready, now we can import our main module for usage\n",
    "\n",
    "import sys\n",
    "sys.path.append('../script')\n",
    "from script_lightweight import pipeline_the_lightweight_approach\n",
    "import shlex\n",
    "\n",
    "print(\"Necessary modules have been successfully imported!\")"
   ]
  },
  {
   "cell_type": "code",
   "execution_count": null,
   "metadata": {},
   "outputs": [],
   "source": [
    "'''Type out the command to run the script.'''\n",
    "\n",
    "# Our module requires a repository path to explore.\n",
    "# It will find every code file and include it in the analysis.\n",
    "\n",
    "# There are six different output types. Output options can be specified by using the flag -opt.\n",
    "# The output options are as follows:\n",
    "# 1 = Print call graph, 2 = Print call trees, 3 = RDF graph in html format*\n",
    "# 4 = TensorFlow sequences, 5 = Extract triples*, 6 = Export RDF Graph in turtle format*\n",
    "# * Generates output files\n",
    "\n",
    "# You can also run the commands directly in your terminal.\n",
    "\n",
    "# Example 1 - Generate Call Graph\n",
    "\n",
    "# The following command runs the lightweight method on the fashion_mnist repository specified by -ip.\n",
    "# Using 'opt 1' flag prints the call graph of the repository. \n",
    "# It also generates an html file in the input path (-ip) for visualing the call graph.\n",
    "command = \"python script_lightweight.py -ip ../test/fashion_mnist -opt 1\"\n",
    "\n",
    "argv = shlex.split(command)\n",
    "# Run the script with the command.\n",
    "pipeline_the_lightweight_approach(argv[2:])"
   ]
  },
  {
   "cell_type": "code",
   "execution_count": null,
   "metadata": {
    "scrolled": true
   },
   "outputs": [],
   "source": [
    "# Example 2 - Generate Call Tree\n",
    "\n",
    "# The following command runs the lightweight method on the Alexnet repository specified by -ip.\n",
    "# Using 'opt 2' flag prints the call tree of the repository.\n",
    "command = \"python script_lightweight.py -ip ../test/Alexnet -opt 2\"\n",
    "\n",
    "argv = shlex.split(command)\n",
    "pipeline_the_lightweight_approach(argv[2:])"
   ]
  },
  {
   "cell_type": "code",
   "execution_count": null,
   "metadata": {},
   "outputs": [],
   "source": [
    "# Example 3 - Visualize RDF Graph\n",
    "\n",
    "# The following command runs the lightweight method on the Xception repository specified by -ip.\n",
    "# \"-opt 3\" flag specifies that RDF graph in html file format will be generated in the input path. \n",
    "# You can open the generated html file using the browser of your choice to view the RDF graph.\n",
    "command = \"python script_lightweight.py -ip ../test/Xception -opt 3\"\n",
    "\n",
    "argv = shlex.split(command)\n",
    "pipeline_the_lightweight_approach(argv[2:])"
   ]
  },
  {
   "cell_type": "code",
   "execution_count": null,
   "metadata": {},
   "outputs": [],
   "source": [
    "# Example 4 - Generate Tensorflow sequences\n",
    "\n",
    "# The following command runs the lightweight method on the Xception repository specified by -ip.\n",
    "# Using \"-opt 4\" flag prints out tensorflow sequences.\n",
    "command = \"python script_lightweight.py -ip ../test/Xception -opt 4\"\n",
    "\n",
    "argv = shlex.split(command)\n",
    "pipeline_the_lightweight_approach(argv[2:])"
   ]
  },
  {
   "cell_type": "code",
   "execution_count": null,
   "metadata": {},
   "outputs": [],
   "source": [
    "# Example 5 - Generate RDF triples and RDF Graph in Turtle format.\n",
    "\n",
    "# The following command runs the script on VGG16 repository. \n",
    "# Notice how you can have multiple output options at the same time.\n",
    "# Using \"-opt 5\" flag generates files with RDF triples in input path.\n",
    "# Using \"-opt 6\" flag generates RDF graphs in turtle format in input path. \n",
    "command = \"python script_lightweight.py -ip ../test/VGG16 -opt 5 6\"\n",
    "\n",
    "argv = shlex.split(command)\n",
    "pipeline_the_lightweight_approach(argv[2:])"
   ]
  },
  {
   "cell_type": "code",
   "execution_count": null,
   "metadata": {},
   "outputs": [],
   "source": [
    "# Example 6 - Include More Information\n",
    "\n",
    "# You can expand the output graph to include more detail using --arg and --url flags.\n",
    "# --arg flag is used to include \"has argument\" relationship in the graph.\n",
    "# --url flag is used to include \"has url\" relationship in the graph.\n",
    "command = \"python script_lightweight.py -ip ../test/YOLO -opt 3 5 --arg --url\"\n",
    "\n",
    "argv = shlex.split(command)\n",
    "pipeline_the_lightweight_approach(argv[2:])"
   ]
  },
  {
   "cell_type": "code",
   "execution_count": null,
   "metadata": {},
   "outputs": [],
   "source": [
    "# Example 7 - Run Using Recursive option\n",
    "\n",
    "# The script can also be run recursively by using the -r flag. \n",
    "# This run the lightweight method on a collection of repositories. \n",
    "# You can run this command on the raw dataset scraped from paperswithcode.com website using our script.\n",
    "# You should also specify the destination path by using the flag -dp.\n",
    "# This script copies the generated files into destination directory.\n",
    "command = \"python script_lightweight.py -ip [Path to dataset] -r -dp [Path to destinaton] -opt 5 6 --arg --url\"\n",
    "\n",
    "argv = shlex.split(command)\n",
    "# pipeline_the_lightweight_approach(argv[2:])"
   ]
  },
  {
   "cell_type": "code",
   "execution_count": null,
   "metadata": {},
   "outputs": [],
   "source": [
    "# Example 8 - Copy Combined Triples Only\n",
    "\n",
    "# When using option 5 (triples), you can use the flag --ct.\n",
    "# This only copies combined_triples files into destination.\n",
    "command = \"python script_lightweight.py -ip [Path to dataset] -r -dp [Path to destinaton] --ct -opt 5\"\n",
    "\n",
    "argv = shlex.split(command)\n",
    "# pipeline_the_lightweight_approach(argv[2:])"
   ]
  }
 ],
 "metadata": {
  "kernelspec": {
   "display_name": "Python 3",
   "language": "python",
   "name": "python3"
  },
  "language_info": {
   "codemirror_mode": {
    "name": "ipython",
    "version": 3
   },
   "file_extension": ".py",
   "mimetype": "text/x-python",
   "name": "python",
   "nbconvert_exporter": "python",
   "pygments_lexer": "ipython3",
   "version": "3.7.3"
  }
 },
 "nbformat": 4,
 "nbformat_minor": 2
}
