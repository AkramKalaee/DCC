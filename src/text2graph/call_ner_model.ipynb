{
 "cells": [
  {
   "cell_type": "code",
   "execution_count": 1,
   "metadata": {},
   "outputs": [],
   "source": [
    "# An already trained and saved NER model is used to annotate new text.\n",
    "# The new text does not contain any annotations and may have been extracted\n",
    "# from a pdf paper describing a DL method, architecture or application.\n",
    "# The entites we consider are: ['Method', 'Generic', 'Task', 'Material', 'Eval', 'Other']\n",
    "#\n",
    "# This material is based upon work supported by Defense Advanced Research\n",
    "# Projects Agency (DARPA) under Agreement No. HR00111990010"
   ]
  },
  {
   "cell_type": "code",
   "execution_count": 2,
   "metadata": {},
   "outputs": [],
   "source": [
    "from __future__ import unicode_literals, print_function\n",
    "\n",
    "\n",
    "import os\n",
    "import plac\n",
    "from pathlib import Path\n",
    "import spacy\n",
    "\n",
    "model_dir = './Models/'\n",
    "test_dir = './Data/TestData/'\n",
    "output_dir = './Output/'"
   ]
  },
  {
   "cell_type": "code",
   "execution_count": 6,
   "metadata": {},
   "outputs": [],
   "source": [
    "# It uses a saved NER model to annotate new text.\n",
    "# Input -\n",
    "#   saved_model_dir: the path of the directory where the saved (trained) model is\n",
    "#   test_dir: the path of the directory where the text exists (the text may be an abstract, a section of a DL paper, or the entire paper)\n",
    "#   output_dir: the path of the directory where the entities will be saved\n",
    "# Output -\n",
    "#   The new entities predicted by the NER model for each input text file are stored in individual files in the output_dir directory\n",
    "\n",
    "def main(saved_model_dir=model_dir, test_dir=test_dir, output_dir=output_dir):\n",
    "    # first collect all file names in the test directory\n",
    "    files_list = []\n",
    "    for root, dirs, files in os.walk(test_dir):\n",
    "        for file1 in files:\n",
    "          files_list.append(file1)\n",
    "\n",
    "    # next go through all files in the test directory, read the text they contain,\n",
    "    # and predict the entities that exist in them.\n",
    "    test_files = os.scandir(test_dir)\n",
    "    file_counter = 0\n",
    "    for test_file in test_files:\n",
    "        curr_file = os.path.join(test_file)\n",
    "        with open(curr_file, \"r+\", encoding=\"utf8\") as test_file:\n",
    "           test_text = test_file.read()\n",
    "           nlp = spacy.load(saved_model_dir)\n",
    "           doc = nlp(test_text)\n",
    "\n",
    "           file_name = str(files_list[file_counter])\n",
    "           file_name = file_name.replace('.txt', '')\n",
    "           ents_file = os.path.join(output_dir, file_name + \"_ents_from_existing_model\" + \".txt\")\n",
    "           with open(ents_file, \"w+\", encoding=\"utf8\") as ef:\n",
    "             for ent in doc.ents:\n",
    "               ef.write(\"%s %s %d %d\\n\" % (ent.label_.encode(\"utf-8\"), ent.text.encode(\"utf-8\"), ent.start_char, ent.end_char))\n",
    "\n",
    "           file_counter = + 1\n",
    "\n",
    "    print(\"The predicted entities we stored in \", output_dir)\n"
   ]
  },
  {
   "cell_type": "code",
   "execution_count": 7,
   "metadata": {},
   "outputs": [
    {
     "name": "stdout",
     "output_type": "stream",
     "text": [
      "The predicted entities we stored in  ./Output/\n"
     ]
    }
   ],
   "source": [
    "main(model_dir, test_dir, output_dir)"
   ]
  },
  {
   "cell_type": "code",
   "execution_count": null,
   "metadata": {},
   "outputs": [],
   "source": []
  }
 ],
 "metadata": {
  "kernelspec": {
   "display_name": "dcc2",
   "language": "python",
   "name": "dcc2"
  },
  "language_info": {
   "codemirror_mode": {
    "name": "ipython",
    "version": 3
   },
   "file_extension": ".py",
   "mimetype": "text/x-python",
   "name": "python",
   "nbconvert_exporter": "python",
   "pygments_lexer": "ipython3",
   "version": "3.6.8"
  }
 },
 "nbformat": 4,
 "nbformat_minor": 2
}
